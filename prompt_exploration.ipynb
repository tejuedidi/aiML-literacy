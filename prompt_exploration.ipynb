{
 "cells": [
  {
   "cell_type": "markdown",
   "metadata": {},
   "source": [
    "Exploring the Capabilities of LLMs via Prompt Engineering"
   ]
  },
  {
   "cell_type": "markdown",
   "metadata": {},
   "source": [
    "Using the Chat Completions API Endpoint to Generate Text From a Prompt"
   ]
  },
  {
   "cell_type": "code",
   "execution_count": 5,
   "metadata": {},
   "outputs": [],
   "source": [
    "import os\n",
    "from dotenv import load_dotenv, find_dotenv\n",
    "from openai import OpenAI\n",
    "\n",
    "load_dotenv(find_dotenv())\n",
    "\n",
    "client = OpenAI(api_key = os.getenv('OPENAI_API_KEY'))\n",
    "\n",
    "def completion(prompt, model = \"gpt-4o-mini\"):\n",
    "    messages=[{\"role\": \"user\",\"content\": prompt}]\n",
    "    response = client.chat.completions.create(\n",
    "        model = model,\n",
    "        messages = messages,\n",
    "        temperature = 0,\n",
    "    )\n",
    "    \n",
    "    return response.choices[0].message.content\n",
    "\n"
   ]
  },
  {
   "cell_type": "code",
   "execution_count": null,
   "metadata": {},
   "outputs": [],
   "source": [
    "prompt = f\"\"\"Write a one-sentence bedtime story about a unicorn.\"\"\"\n",
    "\n",
    "res = completion(prompt)\n",
    "print(res)"
   ]
  },
  {
   "cell_type": "markdown",
   "metadata": {},
   "source": [
    "Summarizing With Word Limit"
   ]
  },
  {
   "cell_type": "code",
   "execution_count": 7,
   "metadata": {},
   "outputs": [
    {
     "name": "stdout",
     "output_type": "stream",
     "text": [
      "A new fraud trend called \"smishing\" involves scammers sending text messages about unpaid toll fees to trick victims into sharing financial information or downloading malware. The FBI reported over 60,000 complaints in 2024, highlighting the growing threat as cashless toll systems and mobile transactions increase.\n",
      "45\n"
     ]
    }
   ],
   "source": [
    "text = \"\"\"\n",
    "A rise in text messages telling people they have unpaid toll fees is emerging as the latest iteration of a ballooning form of fraud.\n",
    "It’s called “smishing” — a portmanteau of “phishing,” the practice of tricking people into sharing financial information or downloading malware, and “SMS,” the software protocol used for text messages.\n",
    "Scammers can not only extract cash from victims but can also gain access to their devices and steal their financial information or identities. The FBI In 2024, the FBI’s Internet Crime Complaint Center received more than 60,000 complaints reporting the unpaid toll scam.\n",
    "The scam is enabled by the rise of cashless highway toll billing and the fact that more and more Americans use their phones to conduct all kinds of business.\n",
    "Text fraud can center around just about anything: unpaid phone bills, credit card bills, undelivered packages, even phony anti-scam warnings or cybersecurity alerts. Scammers, increasingly employed by large international criminal syndicates, can use sophisticated computer and software setups to spray out texts to thousands of people.\n",
    "\"\"\"\n",
    "\n",
    "prompt = f\"\"\"\n",
    "Your task is to generate a summary of an article.\n",
    "Summarize the text below, delimited by triple backticks, in at most 50 words.\n",
    "\n",
    "text: '''{text}'''\n",
    "\"\"\"\n",
    "\n",
    "res = completion(prompt)\n",
    "print(res)\n",
    "print(len(res.split()))"
   ]
  },
  {
   "cell_type": "markdown",
   "metadata": {},
   "source": [
    "Summarizing With a Focus on Product Details"
   ]
  },
  {
   "cell_type": "code",
   "execution_count": 9,
   "metadata": {},
   "outputs": [
    {
     "name": "stdout",
     "output_type": "stream",
     "text": [
      "The toothbrush has impressive battery life, lasting three weeks on a single charge, but the head size is too small for effective cleaning between teeth.\n"
     ]
    }
   ],
   "source": [
    "review = \"\"\"\n",
    "My dental hygienist recommended an electric toothbrush, \\\n",
    "which is why I got this. The battery life seems to be \\\n",
    "pretty impressive so far. After initial charging and \\\n",
    "leaving the charger plugged in for the first week to \\\n",
    "condition the battery, I've unplugged the charger and \\\n",
    "been using it for twice daily brushing for the last \\\n",
    "3 weeks all on the same charge. But the toothbrush head \\\n",
    "is too small. I’ve seen baby toothbrushes bigger than \\\n",
    "this one. I wish the head was bigger with different \\\n",
    "length bristles to get between teeth better because \\\n",
    "this one doesn’t.  Overall if you can get this one \\\n",
    "around the $50 mark, it's a good deal. The manufactuer's \\\n",
    "replacements heads are pretty expensive, but you can \\\n",
    "get generic ones that're more reasonably priced. This \\\n",
    "toothbrush makes me feel like I've been to the dentist \\\n",
    "every day. My teeth feel sparkly clean! \n",
    "\"\"\"\n",
    "\n",
    "prompt = f\"\"\"\n",
    "Your task is to generate a short summary of a product \\\n",
    "review from an ecommerce site to give feedback to the \\\n",
    "Shipping deparmtment. \n",
    "\n",
    "Summarize the review below, delimited by triple \n",
    "backticks, in at most 30 words, and focusing on any aspects \\\n",
    "that mention charging and effictivness of the product. \n",
    "\n",
    "Review: ```{review}```\n",
    "\"\"\"\n",
    "\n",
    "response = completion(prompt)\n",
    "print(response)"
   ]
  },
  {
   "cell_type": "markdown",
   "metadata": {},
   "source": [
    "Transforming (language translation, spelling/grammar checking, tone adjustment, format converstion)"
   ]
  },
  {
   "cell_type": "code",
   "execution_count": 10,
   "metadata": {},
   "outputs": [
    {
     "name": "stdout",
     "output_type": "stream",
     "text": [
      "In formal Spanish, you would say:  \n",
      "\"¿Le gustaría pedir una almohada?\"\n",
      "\n",
      "In informal Spanish, you would say:  \n",
      "\"¿Te gustaría pedir una almohada?\"\n",
      "Subject: Urgent: Standing Lamp Specification\n",
      "\n",
      "Dear [Recipient's Name],\n",
      "\n",
      "Thank you for the update. Please find attached the specifications for the standing lamp. \n",
      "\n",
      "It is important that we complete this task for the client before October 14th. \n",
      "\n",
      "Best regards,  \n",
      "[Your Name]  \n",
      "[Your Position]  \n",
      "[Your Company]  \n",
      "[Your Contact Information]  \n"
     ]
    }
   ],
   "source": [
    "prompt = f\"\"\"\n",
    "Translate the following text to Spanish in both the formal and informal forms: \n",
    "'Would you like to order a pillow?'\n",
    "\"\"\"\n",
    "response = completion(prompt)\n",
    "print(response)\n",
    "\n",
    "\n",
    "prompt = f\"\"\"\n",
    "Translate the following text into a business email: \n",
    "'Hey thanks for the heads up, check out this spec on this standing lamp. \n",
    "neEd to get this done for client before 10/14'\n",
    "\"\"\"\n",
    "res = completion(prompt)\n",
    "print(res)"
   ]
  },
  {
   "cell_type": "markdown",
   "metadata": {},
   "source": [
    "Inferring Sentiment"
   ]
  },
  {
   "cell_type": "code",
   "execution_count": 11,
   "metadata": {},
   "outputs": [
    {
     "name": "stdout",
     "output_type": "stream",
     "text": [
      "The sentiment of the product review is positive. The reviewer expresses satisfaction with the lamp's features, the quick delivery, and the responsive customer service. They highlight the company's care for its customers, which further reinforces the positive sentiment.\n"
     ]
    }
   ],
   "source": [
    "lamp_review = \"\"\"\n",
    "Needed a nice lamp for my bedroom, and this one had \\\n",
    "additional storage and not too high of a price point. \\\n",
    "Got it fast.  The string to our lamp broke during the \\\n",
    "transit and the company happily sent over a new one. \\\n",
    "Came within a few days as well. It was easy to put \\\n",
    "together.  I had a missing part, so I contacted their \\\n",
    "support and they very quickly got me the missing piece! \\\n",
    "Lumina seems to me to be a great company that cares \\\n",
    "about their customers and products!!\n",
    "\"\"\"\n",
    "\n",
    "prompt = f\"\"\"\n",
    "What is the sentiment of the following product review, \n",
    "which is delimited with triple backticks?\n",
    "\n",
    "Review text: '''{lamp_review}'''\n",
    "\"\"\"\n",
    "response = completion(prompt)\n",
    "print(response)\n"
   ]
  },
  {
   "cell_type": "markdown",
   "metadata": {},
   "source": [
    "Expanding"
   ]
  },
  {
   "cell_type": "code",
   "execution_count": 13,
   "metadata": {},
   "outputs": [
    {
     "name": "stdout",
     "output_type": "stream",
     "text": [
      "Subject: Thank You for Your Feedback\n",
      "\n",
      "Dear Valued Customer,\n",
      "\n",
      "Thank you for taking the time to share your thoughts on the 17 piece system. We appreciate your detailed feedback regarding the product's quality and your experience with the motor noise after a year of use. We sincerely apologize for any inconvenience this may have caused, especially regarding the warranty issue.\n",
      "\n",
      "Your insights are invaluable to us as we strive to improve our products and services. If you have any further concerns or need assistance, please do not hesitate to reach out to our customer service team. We are here to help.\n",
      "\n",
      "Thank you once again for your feedback.\n",
      "\n",
      "Best regards,\n",
      "\n",
      "AI customer agent\n"
     ]
    }
   ],
   "source": [
    "sentiment = \"negative\"\n",
    "\n",
    "review = f\"\"\"\n",
    "So, they still had the 17 piece system on seasonal \n",
    "sale for around 70-10 or so in price also from the earlier sale price of $29.\n",
    "So it looks okay, but if you look at the base, the part where the blade locks into place doesn’t look as good\n",
    "as in previous editions from a few years ago, but I plan to be very gentle with it (example, I crush \n",
    "very hard items like beans, ice, rice, etc. in the blender first then pulverize them in the serving size \n",
    "I want in the blender then switch to the whipping blade for a finer flour, and use the cross cutting blade\n",
    "first when making smoothies, then use the flat blade if I need them finer/less pulpy). Special tip when making\n",
    "smoothies, finely cut and freeze the fruits and vegetables (if using spinach-lightly stew soften the\n",
    "spinach then freeze until ready for use-and if making sorbet, use a small to medium sized food processor)\n",
    "that you plan to use that way you can avoid adding so much ice if at all-when making your smoothie.\n",
    "After about a year, the motor was making a funny noise. I called customer service but the warranty expired\n",
    "already, so I had to buy another one. FYI: The overall quality has gone done in these types of products, so \n",
    "they are kind of counting on brand recognition and consumer loyalty to maintain sales. Got it in about two days.\n",
    "\"\"\"\n",
    "\n",
    "prompt = f\"\"\"\n",
    "You are a customer service AI assistant.\n",
    "Your task is to send an email reply to a valued customer.\n",
    "Given the customer email delimited by ```, Generate a reply to thank the customer for their review.\n",
    "If the sentiment is positive or neutral, thank them for their review.\n",
    "If the sentiment is negative, apologize and suggest that they can reach out to customer service. \n",
    "Make sure to use specific details from the review. Write in a concise and professional tone.\n",
    "Sign the email as `AI customer agent`.\n",
    "Customer review: ```{review}```\n",
    "Review sentiment: {sentiment}\n",
    "\"\"\"\n",
    "response = completion(prompt)\n",
    "print(response)"
   ]
  }
 ],
 "metadata": {
  "kernelspec": {
   "display_name": "Python 3",
   "language": "python",
   "name": "python3"
  },
  "language_info": {
   "codemirror_mode": {
    "name": "ipython",
    "version": 3
   },
   "file_extension": ".py",
   "mimetype": "text/x-python",
   "name": "python",
   "nbconvert_exporter": "python",
   "pygments_lexer": "ipython3",
   "version": "3.13.2"
  }
 },
 "nbformat": 4,
 "nbformat_minor": 2
}
